{
 "cells": [
  {
   "cell_type": "code",
   "execution_count": 1,
   "metadata": {},
   "outputs": [],
   "source": [
    "from dotenv import load_dotenv\n",
    "import time\n",
    "import sys\n",
    "\n",
    "import psycopg2\n",
    "import sqlalchemy\n",
    "from sqlalchemy import create_engine\n",
    "import os\n",
    "import json\n",
    "import pandas as pd\n",
    "load_dotenv()\n",
    "PGHOST=os.environ.get(\"PGHOST\")\n",
    "PGDB=os.environ.get(\"PGDB\")\n",
    "PGUSR=os.environ.get(\"PGUSR\")\n",
    "PGPWD=os.environ.get(\"PGPWD\")\n",
    "PGPORT=os.environ.get(\"PGPORT\")"
   ]
  },
  {
   "cell_type": "code",
   "execution_count": null,
   "metadata": {},
   "outputs": [],
   "source": []
  },
  {
   "cell_type": "code",
   "execution_count": null,
   "metadata": {},
   "outputs": [],
   "source": [
    "\"\"\" create a class that will receive the connection parameters\"\"\"   \n",
    "class Database(object):\n",
    "    def __init__(self, host, db, usr, pwd, port, drivername, **kwargs):\n",
    "        self.host = host\n",
    "        self.db = db\n",
    "        self.usr = usr\n",
    "        self.pwd = pwd\n",
    "        self.port = port\n",
    "        self.driver = drivername\n",
    "        self.kwargs = kwargs\n",
    "        self.url= sqlalchemy.url.URL(self.driver, self.host, self.port, self.db, self.usr, self.pwd, **self.kwargs)\n",
    "    "
   ]
  },
  {
   "cell_type": "code",
   "execution_count": 5,
   "metadata": {},
   "outputs": [
    {
     "data": {
      "text/plain": [
       "'\" create a function thal will return all tables of a Database class'"
      ]
     },
     "execution_count": 5,
     "metadata": {},
     "output_type": "execute_result"
    }
   ],
   "source": [
    "\"\"\"\" create a function thal will return all tables of a Database class for a postgres database sqlalchemy\"\"\"\n",
    "def get_tables_postgres(db):\n",
    "    conn = sqlalchemy.create_engine(f'{db.driver}://{db.usr}:{db.pwd}@{db.host}:{db.port}/{db.db}')\n",
    "    tables = pd.read_sql_query(\"SELECT TABLE_NAME FROM INFORMATION_SCHEMA.TABLES\", conn)\n",
    "    return tables\n",
    "\n",
    "\"\"\"\" create a function thal will return all columns of a Database class for a postgres database sqlalchemy\"\"\"\n",
    "def get_columns_postgres(db):\n",
    "    conn = sqlalchemy.create_engine(f'{db.driver}://{db.usr}:{db.pwd}@{db.host}:{db.port}/{db.db}')\n",
    "    columns = pd.read_sql_query(\"SELECT TABLE_NAME, COLUMN_NAME FROM INFORMATION_SCHEMA.COLUMNS\", conn)\n",
    "    return columns\n",
    "    \n"
   ]
  },
  {
   "cell_type": "code",
   "execution_count": null,
   "metadata": {},
   "outputs": [],
   "source": [
    "\"\"\"create a function that will return all tables of a Database class for a mssql database\"\"\"\n",
    "def get_tables_mssql(db):\n",
    "    conn = sqlalchemy.create_engine(f'{db.driver}://{db.usr}:{db.pwd}@{db.host}:{db.port}/{db.db}')\n",
    "    tables = pd.read_sql_query(\"SELECT TABLE_NAME FROM INFORMATION_SCHEMA.TABLES\", conn)\n",
    "    return tables\n",
    "\"\"\"create a function that will return all columns of a Database class for a mssql database\"\"\"\n",
    "def get_columns_mssql(db):\n",
    "    conn = sqlalchemy.create_engine(f'{db.driver}://{db.usr}:{db.pwd}@{db.host}:{db.port}/{db.db}')\n",
    "    columns = pd.read_sql_query(\"SELECT TABLE_NAME, COLUMN_NAME FROM INFORMATION_SCHEMA.COLUMNS\", conn)\n",
    "    return columns"
   ]
  },
  {
   "cell_type": "code",
   "execution_count": null,
   "metadata": {},
   "outputs": [],
   "source": [
    "\"\"\"create a function that will return all tables of a Database class for a mysql database\"\"\"\n",
    "def get_tables_mysql(db):\n",
    "    conn = sqlalchemy.create_engine(f'{db.driver}://{db.usr}:{db.pwd}@{db.host}:{db.port}/{db.db}')\n",
    "    tables = pd.read_sql_query(\"SELECT TABLE_NAME FROM INFORMATION_SCHEMA.TABLES\", conn)\n",
    "    return tables\n",
    "\"\"\"create a function that will return all columns of a Database class for a mysql database\"\"\"\n",
    "def get_columns_mysql(db):\n",
    "    conn = sqlalchemy.create_engine(f'{db.driver}://{db.usr}:{db.pwd}@{db.host}:{db.port}/{db.db}')\n",
    "    columns = pd.read_sql_query(\"SELECT TABLE_NAME, COLUMN_NAME FROM INFORMATION_SCHEMA.COLUMNS\", conn)\n",
    "    return columns\n",
    "    \n"
   ]
  },
  {
   "cell_type": "code",
   "execution_count": null,
   "metadata": {},
   "outputs": [],
   "source": [
    "\"\"\"create a endpoint that will receive a database class and return all tables and all columns of a given database\"\"\"\n",
    "def get_tables_columns(db):\n",
    "    if db.driver == 'postgresql+psycopg2':\n",
    "        tables = get_tables_postgres(db)\n",
    "        columns = get_columns_postgres(db)\n",
    "    elif db.driver == 'mssql+pyodbc':\n",
    "        tables = get_tables_mssql(db)\n",
    "        columns = get_columns_mssql(db)\n",
    "    elif db.driver == 'mysql':\n",
    "        tables = get_tables_mysql(db)\n",
    "        columns = get_columns_mysql(db)\n",
    "    else:\n",
    "        print('driver not supported')\n",
    "        sys.exit()\n",
    "    return tables, columns"
   ]
  },
  {
   "cell_type": "code",
   "execution_count": 7,
   "metadata": {},
   "outputs": [],
   "source": [
    "\"\"\"create a class that will receive two columns, then  format a insert instruction from the second column to the first column\"\"\"\n",
    "class Insert(object):\n",
    "    def __init__(self, table, columns):\n",
    "        self.table = table\n",
    "        self.columns = columns\n",
    "    def insert(self):\n",
    "        return f\"INSERT INTO {self.table} ({', '.join(self.columns)}) VALUES ({', '.join(['%s' for _ in self.columns])})\"\n",
    "\n"
   ]
  },
  {
   "cell_type": "code",
   "execution_count": 9,
   "metadata": {},
   "outputs": [],
   "source": [
    "\"\"\"create a class that will receive a table and columns, then format a select instruction from the columns to the table\"\"\"\n",
    "class Select(object):\n",
    "    def __init__(self, table, columns):\n",
    "        self.table = table\n",
    "        self.columns = columns\n",
    "    def select(self):\n",
    "        return f\"SELECT {', '.join(self.columns)} FROM {self.table}\"\n",
    "        \n"
   ]
  },
  {
   "cell_type": "code",
   "execution_count": 10,
   "metadata": {},
   "outputs": [],
   "source": [
    "\"\"\"create a class thal will receive a database migration project whith project id, destination database, source database, and a list of tables and columns to migrate\n",
    "then it will create a new database class with the destination database and a list of tables and columns to migrate\"\"\"\n",
    "class Migrate(object):\n",
    "    def __init__(self, project_id, destination_db, source_db):\n",
    "        self.project_id = project_id\n",
    "        self.destination_db = destination_db\n",
    "        self.source_db = source_db\n",
    "        self.destination_db = Database(destination_db.host, destination_db.db, destination_db.usr, destination_db.pwd, destination_db.port, destination_db.driver, **destination_db.kwargs)\n",
    "        self.source_db = Database(source_db.host, source_db.db, source_db.usr, source_db.pwd, source_db.port, source_db.driver, **source_db.kwargs)\n",
    "        self.source_tables, self.source_columns = get_tables_columns(self.source_db)\n",
    "        self.destination_tables, self.destination_columns = get_tables_columns(self.destination_db)\n",
    "\n",
    "\n",
    "\"\"\"create a function that will receive a Migrate class and select the data from each source table and columns and insert it to the destination database\"\"\"\n",
    "def migrate(migrate):\n",
    "    for table in migrate.source_tables['TABLE_NAME']:\n",
    "        if table in migrate.destination_tables['TABLE_NAME']:\n",
    "            print(f'{table} already exists in destination database')\n",
    "        else:\n",
    "            print(f'creating {table} table in destination database')\n",
    "            migrate.destination_db.engine.execute(f'CREATE TABLE {table} ({\", \".join(migrate.source_columns[migrate.source_columns[\"TABLE_NAME\"] == table][\"COLUMN_NAME\"])})')\n",
    "        print(f'inserting data from {table} table to destination database')\n",
    "        migrate.destination_db.engine.execute(Insert(table, migrate.source_columns[migrate.source_columns[\"TABLE_NAME\"] == table][\"COLUMN_NAME\"]).insert(), migrate.source_db.engine.execute(Select(table, migrate.source_columns[migrate.source_columns[\"TABLE_NAME\"] == table][\"COLUMN_NAME\"]).select()).fetchall())\n",
    "    print('migration completed')\n"
   ]
  },
  {
   "cell_type": "code",
   "execution_count": null,
   "metadata": {},
   "outputs": [],
   "source": [
    "\"\"\"create \"\"\""
   ]
  },
  {
   "cell_type": "code",
   "execution_count": null,
   "metadata": {},
   "outputs": [],
   "source": [
    "sqlalchemy."
   ]
  }
 ],
 "metadata": {
  "kernelspec": {
   "display_name": ".venv1",
   "language": "python",
   "name": ".venv1"
  },
  "language_info": {
   "codemirror_mode": {
    "name": "ipython",
    "version": 3
   },
   "file_extension": ".py",
   "mimetype": "text/x-python",
   "name": "python",
   "nbconvert_exporter": "python",
   "pygments_lexer": "ipython3",
   "version": "3.9.10"
  },
  "orig_nbformat": 4
 },
 "nbformat": 4,
 "nbformat_minor": 2
}
